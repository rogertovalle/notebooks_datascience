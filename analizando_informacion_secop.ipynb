{
 "cells": [
  {
   "cell_type": "code",
   "execution_count": 11,
   "metadata": {},
   "outputs": [],
   "source": [
    "#importamos lo básico y necesario. Recuerde que previamente tuvo que instalar la libreria requests en el ambiente que va a utilizar.\n",
    "import requests as requests\n",
    "import numpy as np\n",
    "import pandas as pd"
   ]
  },
  {
   "cell_type": "code",
   "execution_count": 89,
   "metadata": {},
   "outputs": [],
   "source": [
    "#esto permite armar los parametros de una manera más fácil al consultar el JSON.\n",
    "parameters = {\n",
    "    \"nit\": 899999.239,\n",
    "}"
   ]
  },
  {
   "cell_type": "code",
   "execution_count": 12,
   "metadata": {},
   "outputs": [
    {
     "name": "stdout",
     "output_type": "stream",
     "text": [
      "200\n"
     ]
    }
   ],
   "source": [
    "#Usar el comentado, si define parameters\n",
    "#response = requests.get(\"https://www.datos.gov.co/resource/qmzu-gj57.json,params = parameters\")\n",
    "#recuerde que el link, que se coloca como parametro, debe ser el del conjunto de datos.\n",
    "response = requests.get(\"https://www.datos.gov.co/resource/5xst-tbem.json\")\n",
    "print(response.status_code)\n",
    "#si la respuesta es igual a 200, es que conectó adecuadamente."
   ]
  },
  {
   "cell_type": "code",
   "execution_count": 13,
   "metadata": {},
   "outputs": [],
   "source": [
    "#convertimos la respuesta en un dataframe.\n",
    "df = pd.DataFrame(response.json())"
   ]
  },
  {
   "cell_type": "code",
   "execution_count": 14,
   "metadata": {},
   "outputs": [
    {
     "data": {
      "text/plain": [
       "Index(['a_o', 'identificador_paa', 'entidad', 'nit', 'mision_vision',\n",
       "       'perspectiva_estrategica', 'presupuesto_menor_cuantia',\n",
       "       'presupuesto_minima_cuantia', 'presupuesto_global',\n",
       "       'fecha_primera_publicaci_n', 'mes_proyectado', 'id_item',\n",
       "       'categoria_principal', 'precio_base', 'duracion_estimada',\n",
       "       'referencia_contrato', 'modalidad'],\n",
       "      dtype='object')"
      ]
     },
     "execution_count": 14,
     "metadata": {},
     "output_type": "execute_result"
    }
   ],
   "source": [
    "#Revisamos las columnas que tiene el dataset, en todo caso en la documentación está el diccionario de datos.\n",
    "df.columns"
   ]
  },
  {
   "cell_type": "code",
   "execution_count": 15,
   "metadata": {},
   "outputs": [
    {
     "data": {
      "text/plain": [
       "(1000, 17)"
      ]
     },
     "execution_count": 15,
     "metadata": {},
     "output_type": "execute_result"
    }
   ],
   "source": [
    "#Como se observa, trae en bloques de a 1000, lo invitaría a que experimenté como traer la totalidad de los datos.\n",
    "#yo también experimentaré, si encuentra la respuesta me la comparte.\n",
    "df.shape"
   ]
  },
  {
   "cell_type": "code",
   "execution_count": 16,
   "metadata": {},
   "outputs": [
    {
     "data": {
      "text/html": [
       "<div>\n",
       "<style scoped>\n",
       "    .dataframe tbody tr th:only-of-type {\n",
       "        vertical-align: middle;\n",
       "    }\n",
       "\n",
       "    .dataframe tbody tr th {\n",
       "        vertical-align: top;\n",
       "    }\n",
       "\n",
       "    .dataframe thead th {\n",
       "        text-align: right;\n",
       "    }\n",
       "</style>\n",
       "<table border=\"1\" class=\"dataframe\">\n",
       "  <thead>\n",
       "    <tr style=\"text-align: right;\">\n",
       "      <th></th>\n",
       "      <th>a_o</th>\n",
       "      <th>identificador_paa</th>\n",
       "      <th>entidad</th>\n",
       "      <th>nit</th>\n",
       "      <th>mision_vision</th>\n",
       "      <th>perspectiva_estrategica</th>\n",
       "      <th>presupuesto_menor_cuantia</th>\n",
       "      <th>presupuesto_minima_cuantia</th>\n",
       "      <th>presupuesto_global</th>\n",
       "      <th>fecha_primera_publicaci_n</th>\n",
       "      <th>mes_proyectado</th>\n",
       "      <th>id_item</th>\n",
       "      <th>categoria_principal</th>\n",
       "      <th>precio_base</th>\n",
       "      <th>duracion_estimada</th>\n",
       "      <th>referencia_contrato</th>\n",
       "      <th>modalidad</th>\n",
       "    </tr>\n",
       "  </thead>\n",
       "  <tbody>\n",
       "    <tr>\n",
       "      <th>0</th>\n",
       "      <td>2016</td>\n",
       "      <td>112826</td>\n",
       "      <td>BOGOTÁ D.C. - INSTITUTO DISTRITAL DE PATRIMONI...</td>\n",
       "      <td>No Definido</td>\n",
       "      <td>Misión: El Instituto Distrital de Patrimonio C...</td>\n",
       "      <td>Fomentar la apropiación social del patrimonio ...</td>\n",
       "      <td>193047401</td>\n",
       "      <td>19304740</td>\n",
       "      <td>8246515386.683</td>\n",
       "      <td>2016-12-19T00:00:00.000</td>\n",
       "      <td>9/23/16</td>\n",
       "      <td>17561566</td>\n",
       "      <td>43211500</td>\n",
       "      <td>18695613</td>\n",
       "      <td>1 mes</td>\n",
       "      <td>Adquisición de equipos de cómputo de gama medi...</td>\n",
       "      <td>Mínima Cuantía</td>\n",
       "    </tr>\n",
       "    <tr>\n",
       "      <th>1</th>\n",
       "      <td>2016</td>\n",
       "      <td>112123</td>\n",
       "      <td>SUCRE - ALCALDÍA MUNICIPIO DE SAN MARCOS</td>\n",
       "      <td>800103720-1</td>\n",
       "      <td>El Municipio de San Marcos es una entidad terr...</td>\n",
       "      <td>porque para garantizar la garanti´a de un buen...</td>\n",
       "      <td>193047400</td>\n",
       "      <td>19304740</td>\n",
       "      <td>$ 7.547.147.962</td>\n",
       "      <td>2016-12-02T00:00:00.000</td>\n",
       "      <td>NaN</td>\n",
       "      <td>17297638</td>\n",
       "      <td>82101600</td>\n",
       "      <td>NaN</td>\n",
       "      <td>NaN</td>\n",
       "      <td>NaN</td>\n",
       "      <td>NaN</td>\n",
       "    </tr>\n",
       "    <tr>\n",
       "      <th>2</th>\n",
       "      <td>2017</td>\n",
       "      <td>115412</td>\n",
       "      <td>ANTIOQUIA - E.S.E. HOSPITAL SAN JUAN DE DIOS D...</td>\n",
       "      <td>No Definido</td>\n",
       "      <td>MISION: Brindar atención integral de salud con...</td>\n",
       "      <td>Prestar servicios de salud</td>\n",
       "      <td>142540938.871</td>\n",
       "      <td>14254093.887</td>\n",
       "      <td>1583788209.68</td>\n",
       "      <td>2017-01-18T00:00:00.000</td>\n",
       "      <td>1/1/17</td>\n",
       "      <td>17914138</td>\n",
       "      <td>50221002</td>\n",
       "      <td>82400000</td>\n",
       "      <td>12 meses</td>\n",
       "      <td>SUMINISTRO DE VIVERES Y ELEMENTOS DE ASEO</td>\n",
       "      <td>Directa</td>\n",
       "    </tr>\n",
       "    <tr>\n",
       "      <th>3</th>\n",
       "      <td>2016</td>\n",
       "      <td>105923</td>\n",
       "      <td>ANTIOQUIA - MUSEO CASA DE LA MEMORIA MCM - MED...</td>\n",
       "      <td>900857221-4</td>\n",
       "      <td>El Museo Casa de la Memoria es un proyecto pol...</td>\n",
       "      <td>El Museo Casa de la Memoria será un lugar abie...</td>\n",
       "      <td>193047400</td>\n",
       "      <td>19304740</td>\n",
       "      <td>4160378738.8</td>\n",
       "      <td>2016-07-29T00:00:00.000</td>\n",
       "      <td>20-Jan</td>\n",
       "      <td>15343921</td>\n",
       "      <td>93141702</td>\n",
       "      <td>12023533</td>\n",
       "      <td>11,3 meses</td>\n",
       "      <td>Prestación de Servicios para facilitar los pro...</td>\n",
       "      <td>Contratación Directa</td>\n",
       "    </tr>\n",
       "    <tr>\n",
       "      <th>4</th>\n",
       "      <td>2016</td>\n",
       "      <td>112123</td>\n",
       "      <td>SUCRE - ALCALDÍA MUNICIPIO DE SAN MARCOS</td>\n",
       "      <td>800103720-1</td>\n",
       "      <td>El Municipio de San Marcos es una entidad terr...</td>\n",
       "      <td>porque para garantizar la garanti´a de un buen...</td>\n",
       "      <td>193047400</td>\n",
       "      <td>19304740</td>\n",
       "      <td>$ 7.547.147.962</td>\n",
       "      <td>2016-12-02T00:00:00.000</td>\n",
       "      <td>NaN</td>\n",
       "      <td>17297650</td>\n",
       "      <td>92101501</td>\n",
       "      <td>NaN</td>\n",
       "      <td>NaN</td>\n",
       "      <td>NaN</td>\n",
       "      <td>NaN</td>\n",
       "    </tr>\n",
       "  </tbody>\n",
       "</table>\n",
       "</div>"
      ],
      "text/plain": [
       "    a_o identificador_paa                                            entidad  \\\n",
       "0  2016            112826  BOGOTÁ D.C. - INSTITUTO DISTRITAL DE PATRIMONI...   \n",
       "1  2016            112123           SUCRE - ALCALDÍA MUNICIPIO DE SAN MARCOS   \n",
       "2  2017            115412  ANTIOQUIA - E.S.E. HOSPITAL SAN JUAN DE DIOS D...   \n",
       "3  2016            105923  ANTIOQUIA - MUSEO CASA DE LA MEMORIA MCM - MED...   \n",
       "4  2016            112123           SUCRE - ALCALDÍA MUNICIPIO DE SAN MARCOS   \n",
       "\n",
       "           nit                                      mision_vision  \\\n",
       "0  No Definido  Misión: El Instituto Distrital de Patrimonio C...   \n",
       "1  800103720-1  El Municipio de San Marcos es una entidad terr...   \n",
       "2  No Definido  MISION: Brindar atención integral de salud con...   \n",
       "3  900857221-4  El Museo Casa de la Memoria es un proyecto pol...   \n",
       "4  800103720-1  El Municipio de San Marcos es una entidad terr...   \n",
       "\n",
       "                             perspectiva_estrategica  \\\n",
       "0  Fomentar la apropiación social del patrimonio ...   \n",
       "1  porque para garantizar la garanti´a de un buen...   \n",
       "2                         Prestar servicios de salud   \n",
       "3  El Museo Casa de la Memoria será un lugar abie...   \n",
       "4  porque para garantizar la garanti´a de un buen...   \n",
       "\n",
       "  presupuesto_menor_cuantia presupuesto_minima_cuantia presupuesto_global  \\\n",
       "0                 193047401                   19304740     8246515386.683   \n",
       "1                 193047400                   19304740    $ 7.547.147.962   \n",
       "2             142540938.871               14254093.887      1583788209.68   \n",
       "3                 193047400                   19304740       4160378738.8   \n",
       "4                 193047400                   19304740    $ 7.547.147.962   \n",
       "\n",
       "  fecha_primera_publicaci_n mes_proyectado   id_item categoria_principal  \\\n",
       "0   2016-12-19T00:00:00.000        9/23/16  17561566            43211500   \n",
       "1   2016-12-02T00:00:00.000            NaN  17297638            82101600   \n",
       "2   2017-01-18T00:00:00.000         1/1/17  17914138            50221002   \n",
       "3   2016-07-29T00:00:00.000         20-Jan  15343921            93141702   \n",
       "4   2016-12-02T00:00:00.000            NaN  17297650            92101501   \n",
       "\n",
       "  precio_base duracion_estimada  \\\n",
       "0    18695613             1 mes   \n",
       "1         NaN               NaN   \n",
       "2    82400000          12 meses   \n",
       "3    12023533        11,3 meses   \n",
       "4         NaN               NaN   \n",
       "\n",
       "                                 referencia_contrato             modalidad  \n",
       "0  Adquisición de equipos de cómputo de gama medi...        Mínima Cuantía  \n",
       "1                                                NaN                   NaN  \n",
       "2          SUMINISTRO DE VIVERES Y ELEMENTOS DE ASEO               Directa  \n",
       "3  Prestación de Servicios para facilitar los pro...  Contratación Directa  \n",
       "4                                                NaN                   NaN  "
      ]
     },
     "execution_count": 16,
     "metadata": {},
     "output_type": "execute_result"
    }
   ],
   "source": [
    "df.head()"
   ]
  }
 ],
 "metadata": {
  "kernelspec": {
   "display_name": "Python 3",
   "language": "python",
   "name": "python3"
  },
  "language_info": {
   "codemirror_mode": {
    "name": "ipython",
    "version": 3
   },
   "file_extension": ".py",
   "mimetype": "text/x-python",
   "name": "python",
   "nbconvert_exporter": "python",
   "pygments_lexer": "ipython3",
   "version": "3.8.1"
  }
 },
 "nbformat": 4,
 "nbformat_minor": 4
}
