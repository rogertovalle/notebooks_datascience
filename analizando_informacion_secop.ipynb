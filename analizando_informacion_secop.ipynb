{
 "cells": [
  {
   "cell_type": "markdown",
   "metadata": {},
   "source": [
    "# COMPARACIÓN CONTRATACIÓN SECOP VS MATRIZ CONTRATACIÓN"
   ]
  },
  {
   "cell_type": "markdown",
   "metadata": {},
   "source": [
    "EN SECOP\n",
    "1. Vamos a conectar con SECOP\n",
    "2. Vamos a establecer un diccionario de regionales\n",
    "\n",
    "EN MATRIZ CONTRATACIÓN INTERNA\n",
    "\n",
    "1. Vamos a subir la información de la base_datos matriz de contratación. \n",
    "2. Vamos a reemplazar el valor de regionales, por el nombre que aparece en SECOP.\n",
    "3. Vamos a crear un array que contenga la tupla regional_nit.\n",
    "4. Programaticamente con esta tupla, vamos a traer la informacion de SECOP y la vamos a agregar a un nuevo dataframe.\n",
    "\n",
    "EN EL DATAFRAME\n",
    "\n",
    "1. Una vez construido el DATAFRAME, vamos a establecer como index los valores de contrato.\n",
    "2. Una vez establecidos los index, vamos a adicionar las columnas número de la base_datos contratación requeridas\n",
    "para hacer la comparación.\n",
    "\n"
   ]
  },
  {
   "cell_type": "code",
   "execution_count": 80,
   "metadata": {},
   "outputs": [],
   "source": [
    "#importamos lo básico y necesario. Recuerde que previamente tuvo que instalar la libreria requests en el ambiente que va a utilizar.\n",
    "import requests as requests\n",
    "import numpy as np\n",
    "import pandas as pd"
   ]
  },
  {
   "cell_type": "code",
   "execution_count": 81,
   "metadata": {},
   "outputs": [],
   "source": [
    "#esto permite armar los parametros de una manera más fácil al consultar el JSON.\n",
    "parameters = {\n",
    "    \"nit_entidad\": 899999239,\n",
    "}"
   ]
  },
  {
   "cell_type": "code",
   "execution_count": 82,
   "metadata": {},
   "outputs": [
    {
     "name": "stdout",
     "output_type": "stream",
     "text": [
      "200\n"
     ]
    }
   ],
   "source": [
    "#Usar el comentado, si define parameters\n",
    "response = requests.get(\"https://www.datos.gov.co/resource/jbjy-vk9h.json\",params = parameters)\n",
    "#recuerde que el link, que se coloca como parametro, debe ser el del conjunto de datos.\n",
    "#response = requests.get(\"https://www.datos.gov.co/resource/jbjy-vk9h.json\")\n",
    "print(response.status_code)\n",
    "#si la respuesta es igual a 200, es que conectó adecuadamente."
   ]
  },
  {
   "cell_type": "code",
   "execution_count": 83,
   "metadata": {},
   "outputs": [
    {
     "data": {
      "text/html": [
       "<div>\n",
       "<style scoped>\n",
       "    .dataframe tbody tr th:only-of-type {\n",
       "        vertical-align: middle;\n",
       "    }\n",
       "\n",
       "    .dataframe tbody tr th {\n",
       "        vertical-align: top;\n",
       "    }\n",
       "\n",
       "    .dataframe thead th {\n",
       "        text-align: right;\n",
       "    }\n",
       "</style>\n",
       "<table border=\"1\" class=\"dataframe\">\n",
       "  <thead>\n",
       "    <tr style=\"text-align: right;\">\n",
       "      <th></th>\n",
       "      <th>0</th>\n",
       "    </tr>\n",
       "  </thead>\n",
       "  <tbody>\n",
       "    <tr>\n",
       "      <th>0</th>\n",
       "      <td>documento_proveedor</td>\n",
       "    </tr>\n",
       "    <tr>\n",
       "      <th>1</th>\n",
       "      <td>proveedor_adjudicado</td>\n",
       "    </tr>\n",
       "    <tr>\n",
       "      <th>2</th>\n",
       "      <td>valor_del_contrato</td>\n",
       "    </tr>\n",
       "    <tr>\n",
       "      <th>3</th>\n",
       "      <td>id_contrato</td>\n",
       "    </tr>\n",
       "    <tr>\n",
       "      <th>4</th>\n",
       "      <td>referencia_del_contrato</td>\n",
       "    </tr>\n",
       "    <tr>\n",
       "      <th>5</th>\n",
       "      <td>proceso_de_compra</td>\n",
       "    </tr>\n",
       "    <tr>\n",
       "      <th>6</th>\n",
       "      <td>descripcion_del_proceso</td>\n",
       "    </tr>\n",
       "    <tr>\n",
       "      <th>7</th>\n",
       "      <td>codigo_de_categoria_principal</td>\n",
       "    </tr>\n",
       "  </tbody>\n",
       "</table>\n",
       "</div>"
      ],
      "text/plain": [
       "                               0\n",
       "0            documento_proveedor\n",
       "1           proveedor_adjudicado\n",
       "2             valor_del_contrato\n",
       "3                    id_contrato\n",
       "4        referencia_del_contrato\n",
       "5              proceso_de_compra\n",
       "6        descripcion_del_proceso\n",
       "7  codigo_de_categoria_principal"
      ]
     },
     "execution_count": 83,
     "metadata": {},
     "output_type": "execute_result"
    }
   ],
   "source": [
    "#Revisamos las columnas que tiene el dataset, en todo caso en la documentación está el diccionario de datos.\n",
    "columns = pd.DataFrame(df.columns)\n",
    "columns"
   ]
  },
  {
   "cell_type": "code",
   "execution_count": 84,
   "metadata": {},
   "outputs": [
    {
     "data": {
      "text/plain": [
       "['ICBF REGIONAL CAUCA',\n",
       " 'ICBF REGIONAL VAUPES',\n",
       " 'INSTITUTO COLOMBIANO DE BIENESTAR FAMILIAR (SEDE NACIONAL)',\n",
       " 'ICBF REGIONAL CASANARE',\n",
       " 'ICBF REGIONAL VALLE DEL CAUCA',\n",
       " 'ICBF REGIONAL BOGOTA',\n",
       " 'ICBF REGIONAL NARIÑO',\n",
       " 'ICBF REGIONAL GUAJIRA',\n",
       " 'ICBF REGIONAL CAQUETA',\n",
       " 'ICBF REGIONAL MAGDALENA',\n",
       " 'ICBF REGIONAL CUNDINAMARCA',\n",
       " 'ICBF REGIONAL NORTE DE SANTANDER',\n",
       " 'ICBF REGIONAL CESAR',\n",
       " 'ICBF REGIONAL ANTIOQUIA',\n",
       " 'INSTITUTO COLOMBIANO DE BIENESTAR FAMILIAR REGIONAL BOLIVAR',\n",
       " 'ICBF REGIONAL GUAVIARE',\n",
       " 'INSTITUTO COLOMBIANO DE BIENESTAR FAMILIAR REGIONAL BOYACA',\n",
       " 'ICBF REGIONAL VICHADA',\n",
       " 'ICBF REGIONAL HUILA',\n",
       " 'INSTITUTO COLOMBIANO DE BIENESTAR FAMILIAR',\n",
       " 'ICBF REGIONAL TOLIMA',\n",
       " 'ICBF REGIONAL QUINDIO',\n",
       " 'ICBF REGIONAL CHOCO',\n",
       " 'ICBF REGIONAL CALDAS',\n",
       " 'ICBF RISARALDA',\n",
       " 'ICBF REGIONAL AMAZONAS',\n",
       " 'ICBF REGIONAL CORDOBA',\n",
       " 'ICBF REGIONAL PUTUMAYO',\n",
       " 'ICBF REGIONAL ARAUCA',\n",
       " 'ICBF REGIONAL SAN ANDRES']"
      ]
     },
     "execution_count": 84,
     "metadata": {},
     "output_type": "execute_result"
    }
   ],
   "source": [
    "#convertimos la respuesta en un dataframe.\n",
    "df_regionales = pd.DataFrame(response.json())\n",
    "regionales = list(np.array(df_regionales['nombre_entidad'].unique()))\n",
    "regionales"
   ]
  },
  {
   "cell_type": "code",
   "execution_count": 97,
   "metadata": {},
   "outputs": [
    {
     "name": "stdout",
     "output_type": "stream",
     "text": [
      "{'nit_entidad': 899999239, 'nombre_entidad': 'ICBF REGIONAL CAUCA'}\n",
      "1\n",
      "{'nit_entidad': 899999239, 'nombre_entidad': 'ICBF REGIONAL VAUPES'}\n",
      "2\n",
      "{'nit_entidad': 899999239, 'nombre_entidad': 'INSTITUTO COLOMBIANO DE BIENESTAR FAMILIAR (SEDE NACIONAL)'}\n",
      "3\n",
      "{'nit_entidad': 899999239, 'nombre_entidad': 'ICBF REGIONAL CASANARE'}\n",
      "4\n",
      "{'nit_entidad': 899999239, 'nombre_entidad': 'ICBF REGIONAL VALLE DEL CAUCA'}\n",
      "5\n",
      "{'nit_entidad': 899999239, 'nombre_entidad': 'ICBF REGIONAL BOGOTA'}\n",
      "6\n",
      "{'nit_entidad': 899999239, 'nombre_entidad': 'ICBF REGIONAL NARIÑO'}\n",
      "7\n",
      "{'nit_entidad': 899999239, 'nombre_entidad': 'ICBF REGIONAL GUAJIRA'}\n",
      "8\n",
      "{'nit_entidad': 899999239, 'nombre_entidad': 'ICBF REGIONAL CAQUETA'}\n",
      "9\n",
      "{'nit_entidad': 899999239, 'nombre_entidad': 'ICBF REGIONAL MAGDALENA'}\n",
      "10\n",
      "{'nit_entidad': 899999239, 'nombre_entidad': 'ICBF REGIONAL CUNDINAMARCA'}\n",
      "11\n",
      "{'nit_entidad': 899999239, 'nombre_entidad': 'ICBF REGIONAL NORTE DE SANTANDER'}\n",
      "12\n",
      "{'nit_entidad': 899999239, 'nombre_entidad': 'ICBF REGIONAL CESAR'}\n",
      "13\n",
      "{'nit_entidad': 899999239, 'nombre_entidad': 'ICBF REGIONAL ANTIOQUIA'}\n",
      "14\n",
      "{'nit_entidad': 899999239, 'nombre_entidad': 'INSTITUTO COLOMBIANO DE BIENESTAR FAMILIAR REGIONAL BOLIVAR'}\n",
      "15\n",
      "{'nit_entidad': 899999239, 'nombre_entidad': 'ICBF REGIONAL GUAVIARE'}\n",
      "16\n",
      "{'nit_entidad': 899999239, 'nombre_entidad': 'INSTITUTO COLOMBIANO DE BIENESTAR FAMILIAR REGIONAL BOYACA'}\n",
      "17\n",
      "{'nit_entidad': 899999239, 'nombre_entidad': 'ICBF REGIONAL VICHADA'}\n",
      "18\n",
      "{'nit_entidad': 899999239, 'nombre_entidad': 'ICBF REGIONAL HUILA'}\n",
      "19\n",
      "{'nit_entidad': 899999239, 'nombre_entidad': 'INSTITUTO COLOMBIANO DE BIENESTAR FAMILIAR'}\n",
      "20\n",
      "{'nit_entidad': 899999239, 'nombre_entidad': 'ICBF REGIONAL TOLIMA'}\n",
      "21\n",
      "{'nit_entidad': 899999239, 'nombre_entidad': 'ICBF REGIONAL QUINDIO'}\n",
      "22\n",
      "{'nit_entidad': 899999239, 'nombre_entidad': 'ICBF REGIONAL CHOCO'}\n",
      "23\n",
      "{'nit_entidad': 899999239, 'nombre_entidad': 'ICBF REGIONAL CALDAS'}\n",
      "24\n",
      "{'nit_entidad': 899999239, 'nombre_entidad': 'ICBF RISARALDA'}\n",
      "25\n",
      "{'nit_entidad': 899999239, 'nombre_entidad': 'ICBF REGIONAL AMAZONAS'}\n",
      "26\n",
      "{'nit_entidad': 899999239, 'nombre_entidad': 'ICBF REGIONAL CORDOBA'}\n",
      "27\n",
      "{'nit_entidad': 899999239, 'nombre_entidad': 'ICBF REGIONAL PUTUMAYO'}\n",
      "28\n",
      "{'nit_entidad': 899999239, 'nombre_entidad': 'ICBF REGIONAL ARAUCA'}\n",
      "29\n",
      "{'nit_entidad': 899999239, 'nombre_entidad': 'ICBF REGIONAL SAN ANDRES'}\n",
      "30\n"
     ]
    }
   ],
   "source": [
    "#Crear parametros dinámicamente.\n",
    "count = 0\n",
    "for r in regionales:\n",
    "    count = count+1\n",
    "    parameters = {\n",
    "        'nit_entidad': 899999239,\n",
    "        'nombre_entidad':str(r)\n",
    "    }\n",
    "    \n",
    "    print(parameters)\n",
    "    print(count)\n"
   ]
  },
  {
   "cell_type": "code",
   "execution_count": 86,
   "metadata": {},
   "outputs": [
    {
     "data": {
      "text/plain": [
       "(1000, 54)"
      ]
     },
     "execution_count": 86,
     "metadata": {},
     "output_type": "execute_result"
    }
   ],
   "source": [
    "#Como se observa, trae en bloques de a 1000, lo invitaría a que experimenté como traer la totalidad de los datos.\n",
    "#yo también experimentaré, si encuentra la respuesta me la comparte.\n",
    "df_regionales.shape"
   ]
  },
  {
   "cell_type": "code",
   "execution_count": 87,
   "metadata": {},
   "outputs": [
    {
     "data": {
      "text/html": [
       "<div>\n",
       "<style scoped>\n",
       "    .dataframe tbody tr th:only-of-type {\n",
       "        vertical-align: middle;\n",
       "    }\n",
       "\n",
       "    .dataframe tbody tr th {\n",
       "        vertical-align: top;\n",
       "    }\n",
       "\n",
       "    .dataframe thead th {\n",
       "        text-align: right;\n",
       "    }\n",
       "</style>\n",
       "<table border=\"1\" class=\"dataframe\">\n",
       "  <thead>\n",
       "    <tr style=\"text-align: right;\">\n",
       "      <th></th>\n",
       "      <th>nombre_entidad</th>\n",
       "      <th>documento_proveedor</th>\n",
       "      <th>proveedor_adjudicado</th>\n",
       "      <th>valor_del_contrato</th>\n",
       "      <th>id_contrato</th>\n",
       "      <th>referencia_del_contrato</th>\n",
       "      <th>proceso_de_compra</th>\n",
       "      <th>descripcion_del_proceso</th>\n",
       "      <th>codigo_de_categoria_principal</th>\n",
       "    </tr>\n",
       "  </thead>\n",
       "  <tbody>\n",
       "  </tbody>\n",
       "</table>\n",
       "</div>"
      ],
      "text/plain": [
       "Empty DataFrame\n",
       "Columns: [nombre_entidad, documento_proveedor, proveedor_adjudicado, valor_del_contrato, id_contrato, referencia_del_contrato, proceso_de_compra, descripcion_del_proceso, codigo_de_categoria_principal]\n",
       "Index: []"
      ]
     },
     "execution_count": 87,
     "metadata": {},
     "output_type": "execute_result"
    }
   ],
   "source": [
    "df_secop = pd.DataFrame(columns=['nombre_entidad','documento_proveedor', 'proveedor_adjudicado', 'valor_del_contrato', 'id_contrato', 'referencia_del_contrato', 'proceso_de_compra', 'descripcion_del_proceso', 'codigo_de_categoria_principal'])\n",
    "df_secop"
   ]
  },
  {
   "cell_type": "code",
   "execution_count": 88,
   "metadata": {},
   "outputs": [
    {
     "name": "stdout",
     "output_type": "stream",
     "text": [
      "200 ICBF REGIONAL CAUCA (0, 9)\n",
      "200 ICBF REGIONAL VAUPES (0, 9)\n",
      "200 INSTITUTO COLOMBIANO DE BIENESTAR FAMILIAR (SEDE NACIONAL) (0, 9)\n",
      "200 ICBF REGIONAL CASANARE (0, 9)\n"
     ]
    },
    {
     "ename": "KeyboardInterrupt",
     "evalue": "",
     "output_type": "error",
     "traceback": [
      "\u001b[1;31m---------------------------------------------------------------------------\u001b[0m",
      "\u001b[1;31mKeyboardInterrupt\u001b[0m                         Traceback (most recent call last)",
      "\u001b[1;32m<ipython-input-88-b101f051e5c9>\u001b[0m in \u001b[0;36m<module>\u001b[1;34m\u001b[0m\n\u001b[0;32m     19\u001b[0m     \u001b[0mdf\u001b[0m \u001b[1;33m=\u001b[0m \u001b[0mdf\u001b[0m\u001b[1;33m[\u001b[0m\u001b[1;33m[\u001b[0m\u001b[1;34m'nombre_entidad'\u001b[0m\u001b[1;33m,\u001b[0m\u001b[1;34m'documento_proveedor'\u001b[0m\u001b[1;33m,\u001b[0m \u001b[1;34m'proveedor_adjudicado'\u001b[0m\u001b[1;33m,\u001b[0m \u001b[1;34m'valor_del_contrato'\u001b[0m\u001b[1;33m,\u001b[0m \u001b[1;34m'id_contrato'\u001b[0m\u001b[1;33m,\u001b[0m \u001b[1;34m'referencia_del_contrato'\u001b[0m\u001b[1;33m,\u001b[0m \u001b[1;34m'proceso_de_compra'\u001b[0m\u001b[1;33m,\u001b[0m \u001b[1;34m'descripcion_del_proceso'\u001b[0m\u001b[1;33m,\u001b[0m \u001b[1;34m'codigo_de_categoria_principal'\u001b[0m\u001b[1;33m]\u001b[0m\u001b[1;33m]\u001b[0m\u001b[1;33m\u001b[0m\u001b[1;33m\u001b[0m\u001b[0m\n\u001b[0;32m     20\u001b[0m     \u001b[0mdf_secop\u001b[0m\u001b[1;33m.\u001b[0m\u001b[0mappend\u001b[0m\u001b[1;33m(\u001b[0m\u001b[0mdf\u001b[0m\u001b[1;33m,\u001b[0m \u001b[0mignore_index\u001b[0m\u001b[1;33m=\u001b[0m\u001b[1;32mTrue\u001b[0m\u001b[1;33m)\u001b[0m\u001b[1;33m\u001b[0m\u001b[1;33m\u001b[0m\u001b[0m\n\u001b[1;32m---> 21\u001b[1;33m     \u001b[0mtime\u001b[0m\u001b[1;33m.\u001b[0m\u001b[0msleep\u001b[0m\u001b[1;33m(\u001b[0m\u001b[1;36m5\u001b[0m\u001b[1;33m)\u001b[0m\u001b[1;33m\u001b[0m\u001b[1;33m\u001b[0m\u001b[0m\n\u001b[0m\u001b[0;32m     22\u001b[0m     \u001b[0mprint\u001b[0m\u001b[1;33m(\u001b[0m\u001b[0mresponse\u001b[0m\u001b[1;33m.\u001b[0m\u001b[0mstatus_code\u001b[0m\u001b[1;33m,\u001b[0m \u001b[0mr\u001b[0m\u001b[1;33m,\u001b[0m\u001b[0mdf_secop\u001b[0m\u001b[1;33m.\u001b[0m\u001b[0mshape\u001b[0m\u001b[1;33m)\u001b[0m\u001b[1;33m\u001b[0m\u001b[1;33m\u001b[0m\u001b[0m\n",
      "\u001b[1;31mKeyboardInterrupt\u001b[0m: "
     ]
    }
   ],
   "source": [
    "import time\n",
    "\n",
    "for r in regionales:\n",
    "    count +=\n",
    "    #esto permite armar los parametros de una manera más fácil al consultar el JSON.\n",
    "    parameters = {\n",
    "        'nit_entidad': 899999239,\n",
    "        'nombre_entidad':str(r)\n",
    "    }\n",
    "    \n",
    "    #Usar el comentado, si define parameters\n",
    "    response = requests.get(\"https://www.datos.gov.co/resource/jbjy-vk9h.json\",params = parameters)\n",
    "    #recuerde que el link, que se coloca como parametro, debe ser el del conjunto de datos.\n",
    "    #response = requests.get(\"https://www.datos.gov.co/resource/jbjy-vk9h.json\")\n",
    "    \n",
    "    #si la respuesta es igual a 200, es que conectó adecuadamente.\n",
    "    \n",
    "    #Agrego información en nuevo dataframe\n",
    "    df = pd.DataFrame(response.json())\n",
    "    df = df[['nombre_entidad','documento_proveedor', 'proveedor_adjudicado', 'valor_del_contrato', 'id_contrato', 'referencia_del_contrato', 'proceso_de_compra', 'descripcion_del_proceso', 'codigo_de_categoria_principal']]\n",
    "    df_secop.append(df, ignore_index=True)\n",
    "    time.sleep(5)\n",
    "    print(response.status_code, r,df_secop.shape)\n"
   ]
  },
  {
   "cell_type": "code",
   "execution_count": null,
   "metadata": {},
   "outputs": [],
   "source": [
    "df_secop[['documento_proveedor', 'proveedor_adjudicado', 'valor_del_contrato', 'id_contrato', 'referencia_del_contrato', 'proceso_de_compra', 'descripcion_del_proceso', 'codigo_de_categoria_principal']]"
   ]
  }
 ],
 "metadata": {
  "kernelspec": {
   "display_name": "Python 3",
   "language": "python",
   "name": "python3"
  },
  "language_info": {
   "codemirror_mode": {
    "name": "ipython",
    "version": 3
   },
   "file_extension": ".py",
   "mimetype": "text/x-python",
   "name": "python",
   "nbconvert_exporter": "python",
   "pygments_lexer": "ipython3",
   "version": "3.8.1"
  }
 },
 "nbformat": 4,
 "nbformat_minor": 4
}
